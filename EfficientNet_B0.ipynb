{
  "nbformat": 4,
  "nbformat_minor": 0,
  "metadata": {
    "colab": {
      "name": "Efficient.ipynb",
      "provenance": []
    },
    "kernelspec": {
      "name": "python3",
      "display_name": "Python 3"
    },
    "accelerator": "GPU"
  },
  "cells": [
    {
      "cell_type": "code",
      "metadata": {
        "id": "umEjFJyPUW83",
        "colab_type": "code",
        "outputId": "d262ab45-9383-47e0-e9fa-d64688947827",
        "colab": {
          "base_uri": "https://localhost:8080/",
          "height": 33
        }
      },
      "source": [
        "import cv2\n",
        "import numpy as np\n",
        "import matplotlib.pyplot as plt\n",
        "\n",
        "import keras\n",
        "import keras.backend as K\n",
        "from keras.datasets import cifar100\n",
        "from keras.models import Sequential\n",
        "from keras.layers import Dense, Dropout, BatchNormalization, Flatten, GlobalMaxPooling2D, GlobalAveragePooling2D\n",
        "from keras.optimizers import Adam, SGD\n",
        "from keras.callbacks import EarlyStopping, ReduceLROnPlateau\n",
        "from keras.preprocessing.image import ImageDataGenerator\n",
        "from keras.utils import to_categorical\n",
        "\n",
        "import albumentations as albu\n",
        "from sklearn.model_selection import train_test_split, StratifiedShuffleSplit\n",
        "from sklearn.metrics import accuracy_score"
      ],
      "execution_count": 0,
      "outputs": [
        {
          "output_type": "stream",
          "text": [
            "Using TensorFlow backend.\n"
          ],
          "name": "stderr"
        }
      ]
    },
    {
      "cell_type": "code",
      "metadata": {
        "id": "e14bHJFKUZd2",
        "colab_type": "code",
        "colab": {}
      },
      "source": [
        "# parameters for data\n",
        "height = 224\n",
        "width = 224\n",
        "channels = 3\n",
        "input_shape = (height, width, channels)\n",
        "n_classes = 100\n",
        "\n",
        "# parameters for optimizers\n",
        "lr = 0.5e-2\n",
        "\n",
        "# Parameters for training\n",
        "epochs = 20\n",
        "batch_size = 64\n",
        "\n",
        "# parameters for callback functions\n",
        "es_patience = 5\n",
        "rlrop_patience = 5\n",
        "decay_rate = 0.8"
      ],
      "execution_count": 0,
      "outputs": []
    },
    {
      "cell_type": "code",
      "metadata": {
        "id": "M0Vg8-EMZmCR",
        "colab_type": "code",
        "colab": {}
      },
      "source": [
        ""
      ],
      "execution_count": 0,
      "outputs": []
    },
    {
      "cell_type": "code",
      "metadata": {
        "id": "YOuFe1QFUczj",
        "colab_type": "code",
        "outputId": "a466b352-e30e-42cc-d81c-91fcfe598a88",
        "colab": {
          "base_uri": "https://localhost:8080/",
          "height": 83
        }
      },
      "source": [
        "# Load data\n",
        "(X, y), (X_test, y_test) = cifar100.load_data()\n",
        "\n",
        "print(\"The shape of X_train : \", X.shape)\n",
        "print(\"The shape of X_test : \", X_test.shape)\n",
        "\n",
        "\n"
      ],
      "execution_count": 0,
      "outputs": [
        {
          "output_type": "stream",
          "text": [
            "Downloading data from https://www.cs.toronto.edu/~kriz/cifar-100-python.tar.gz\n",
            "169009152/169001437 [==============================] - 3s 0us/step\n",
            "The shape of X_train :  (50000, 32, 32, 3)\n",
            "The shape of X_test :  (10000, 32, 32, 3)\n"
          ],
          "name": "stdout"
        }
      ]
    },
    {
      "cell_type": "code",
      "metadata": {
        "id": "B9NKNbPSUiXX",
        "colab_type": "code",
        "outputId": "9270875e-0867-4395-da82-519ea1638b51",
        "colab": {
          "base_uri": "https://localhost:8080/",
          "height": 50
        }
      },
      "source": [
        "# split data\n",
        "st = StratifiedShuffleSplit(n_splits = 2, test_size = 0.2, random_state = 1)\n",
        "for train_index, val_index in st.split(X, y):\n",
        "    X_train, X_val, y_train, y_val = X[train_index], X[val_index], y[train_index], y[val_index]\n",
        "    \n",
        "print(\"The number of training data : \", X_train.shape[0])\n",
        "print(\"The number of validation data : \", X_val.shape[0])\n",
        "\n",
        "del X, y"
      ],
      "execution_count": 0,
      "outputs": [
        {
          "output_type": "stream",
          "text": [
            "The number of training data :  40000\n",
            "The number of validation data :  10000\n"
          ],
          "name": "stdout"
        }
      ]
    },
    {
      "cell_type": "code",
      "metadata": {
        "id": "aBgPCNqWbGl-",
        "colab_type": "code",
        "colab": {}
      },
      "source": [
        "def np_resize(img, shape):\n",
        "    return cv2.resize(img, (shape[1], shape[0]), interpolation = cv2.INTER_CUBIC)"
      ],
      "execution_count": 0,
      "outputs": []
    },
    {
      "cell_type": "code",
      "metadata": {
        "id": "mOp_cPHobIxd",
        "colab_type": "code",
        "colab": {}
      },
      "source": [
        "class DataGenerator(keras.utils.Sequence):\n",
        "    'Generates data for keras'\n",
        "    def __init__(self, images , labels = None, mode = 'fit', batch_size = batch_size,\n",
        "                 dim = (height, width), channels = channels, n_classes = n_classes,\n",
        "                 shuffle = True, augment = False):\n",
        "        self.images = images\n",
        "        self.labels = labels\n",
        "        self.mode = mode\n",
        "        self.batch_size = batch_size\n",
        "        self.dim = dim\n",
        "        self.channels = channels\n",
        "        self.n_classes = n_classes\n",
        "        self.shuffle = shuffle\n",
        "        self.augment = augment\n",
        "        \n",
        "        self.on_epoch_end()\n",
        "        \n",
        "    def on_epoch_end(self):\n",
        "        'Updates indexes after each epoch'\n",
        "        self.indexes = np.arange(self.images.shape[0])\n",
        "        if self.shuffle == True:\n",
        "            np.random.shuffle(self.indexes)\n",
        "            \n",
        "    def __len__(self):\n",
        "        'Denotes the number of batches per epoch'\n",
        "        return int(np.floor(len(self.images) / self.batch_size))\n",
        "        \n",
        "    def __getitem__(self, index):\n",
        "        'Generate one batch of data'\n",
        "        batch_indexes = self.indexes[index*self.batch_size:(index+1)*self.batch_size]\n",
        "\n",
        "        # =========================================================== #\n",
        "        # Generate mini-batch of X\n",
        "        # =========================================================== #\n",
        "        X = np.empty((self.batch_size, *self.dim, self.channels))\n",
        "        for i, ID in enumerate(batch_indexes):\n",
        "            # Generate a preprocessed image\n",
        "            img = self.images[ID]\n",
        "            img = img.astype(np.float32) / 255.\n",
        "            img = np_resize(img, self.dim)\n",
        "            X[i] = img\n",
        "            \n",
        "        \n",
        "        # =========================================================== #\n",
        "        # Generate mini-batch of y\n",
        "        # =========================================================== #\n",
        "        if self.mode == 'fit':\n",
        "            y = self.labels[batch_indexes]\n",
        "            y = to_categorical(y, n_classes)\n",
        "            '''\n",
        "            y = np.zeros((self.batch_size, self.n_classes), dtype = np.uint8)\n",
        "            for i, ID in enumerate(batch_indexes):\n",
        "                # one hot encoded label\n",
        "                y[i, self.labels[ID]] = 1\n",
        "            '''\n",
        "            # Augmentation should only be implemented in the training part.\n",
        "            if self.augment == True:\n",
        "                X = self.__augment_batch(X)                \n",
        "            \n",
        "            return X,y\n",
        "        \n",
        "        elif self.mode == 'predict':\n",
        "            return X       \n",
        "        \n",
        "        else:\n",
        "            raise AttributeError('The mode parameters should be set to \"fit\" or \"predict\"')\n",
        "            \n",
        "    def __random_transform(self, img):\n",
        "        composition = albu.Compose([albu.HorizontalFlip(p = 0.5),\n",
        "                                    albu.VerticalFlip(p = 0.5),\n",
        "                                    albu.GridDistortion(p = 0.2),\n",
        "                                    albu.ElasticTransform(p = 0.2)])\n",
        "        \n",
        "        return composition(image = img)['image']\n",
        "        \n",
        "    \n",
        "    def __augment_batch(self, img_batch):\n",
        "        for i in range(img_batch.shape[0]):\n",
        "            img_batch[i] = self.__random_transform(img_batch[i])\n",
        "            \n",
        "        return img_batch\n"
      ],
      "execution_count": 0,
      "outputs": []
    },
    {
      "cell_type": "code",
      "metadata": {
        "id": "s7Nzh9WEbNo0",
        "colab_type": "code",
        "colab": {}
      },
      "source": [
        "train_generator = DataGenerator(X_train, y_train, augment = True)\n",
        "valid_generator = DataGenerator(X_val, y_val, augment = False)"
      ],
      "execution_count": 0,
      "outputs": []
    },
    {
      "cell_type": "code",
      "metadata": {
        "id": "kYr_IR-obPlz",
        "colab_type": "code",
        "outputId": "6a9fffcd-95b2-45dc-c7b9-0fa7c7f56816",
        "colab": {
          "base_uri": "https://localhost:8080/",
          "height": 370
        }
      },
      "source": [
        "!pip install -U efficientnet"
      ],
      "execution_count": 0,
      "outputs": [
        {
          "output_type": "stream",
          "text": [
            "Collecting efficientnet\n",
            "  Downloading https://files.pythonhosted.org/packages/28/91/67848a143b54c331605bfba5fd31cf4e9db13d2e429d103fe807acc3bcf4/efficientnet-1.1.0-py3-none-any.whl\n",
            "Requirement already satisfied, skipping upgrade: scikit-image in /usr/local/lib/python3.6/dist-packages (from efficientnet) (0.16.2)\n",
            "Requirement already satisfied, skipping upgrade: keras-applications<=1.0.8,>=1.0.7 in /usr/local/lib/python3.6/dist-packages (from efficientnet) (1.0.8)\n",
            "Requirement already satisfied, skipping upgrade: scipy>=0.19.0 in /usr/local/lib/python3.6/dist-packages (from scikit-image->efficientnet) (1.4.1)\n",
            "Requirement already satisfied, skipping upgrade: matplotlib!=3.0.0,>=2.0.0 in /usr/local/lib/python3.6/dist-packages (from scikit-image->efficientnet) (3.2.1)\n",
            "Requirement already satisfied, skipping upgrade: networkx>=2.0 in /usr/local/lib/python3.6/dist-packages (from scikit-image->efficientnet) (2.4)\n",
            "Requirement already satisfied, skipping upgrade: pillow>=4.3.0 in /usr/local/lib/python3.6/dist-packages (from scikit-image->efficientnet) (7.0.0)\n",
            "Requirement already satisfied, skipping upgrade: imageio>=2.3.0 in /usr/local/lib/python3.6/dist-packages (from scikit-image->efficientnet) (2.4.1)\n",
            "Requirement already satisfied, skipping upgrade: PyWavelets>=0.4.0 in /usr/local/lib/python3.6/dist-packages (from scikit-image->efficientnet) (1.1.1)\n",
            "Requirement already satisfied, skipping upgrade: numpy>=1.9.1 in /usr/local/lib/python3.6/dist-packages (from keras-applications<=1.0.8,>=1.0.7->efficientnet) (1.18.4)\n",
            "Requirement already satisfied, skipping upgrade: h5py in /usr/local/lib/python3.6/dist-packages (from keras-applications<=1.0.8,>=1.0.7->efficientnet) (2.10.0)\n",
            "Requirement already satisfied, skipping upgrade: cycler>=0.10 in /usr/local/lib/python3.6/dist-packages (from matplotlib!=3.0.0,>=2.0.0->scikit-image->efficientnet) (0.10.0)\n",
            "Requirement already satisfied, skipping upgrade: python-dateutil>=2.1 in /usr/local/lib/python3.6/dist-packages (from matplotlib!=3.0.0,>=2.0.0->scikit-image->efficientnet) (2.8.1)\n",
            "Requirement already satisfied, skipping upgrade: kiwisolver>=1.0.1 in /usr/local/lib/python3.6/dist-packages (from matplotlib!=3.0.0,>=2.0.0->scikit-image->efficientnet) (1.2.0)\n",
            "Requirement already satisfied, skipping upgrade: pyparsing!=2.0.4,!=2.1.2,!=2.1.6,>=2.0.1 in /usr/local/lib/python3.6/dist-packages (from matplotlib!=3.0.0,>=2.0.0->scikit-image->efficientnet) (2.4.7)\n",
            "Requirement already satisfied, skipping upgrade: decorator>=4.3.0 in /usr/local/lib/python3.6/dist-packages (from networkx>=2.0->scikit-image->efficientnet) (4.4.2)\n",
            "Requirement already satisfied, skipping upgrade: six in /usr/local/lib/python3.6/dist-packages (from h5py->keras-applications<=1.0.8,>=1.0.7->efficientnet) (1.12.0)\n",
            "Installing collected packages: efficientnet\n",
            "Successfully installed efficientnet-1.1.0\n"
          ],
          "name": "stdout"
        }
      ]
    },
    {
      "cell_type": "code",
      "metadata": {
        "id": "iCST5GgRbR4g",
        "colab_type": "code",
        "outputId": "c92ac69c-9653-4c5b-e719-a0f340acdca1",
        "colab": {
          "base_uri": "https://localhost:8080/",
          "height": 337
        }
      },
      "source": [
        "import efficientnet.keras as efn \n",
        "\n",
        "efnb0 = efn.EfficientNetB0(weights = 'imagenet', include_top = False, classes = n_classes, input_shape = input_shape)\n",
        "\n",
        "model = Sequential()\n",
        "model.add(efnb0)\n",
        "model.add(GlobalAveragePooling2D())\n",
        "model.add(Dropout(0.2))\n",
        "model.add(Dense(n_classes, activation = 'softmax'))\n",
        "\n",
        "model.summary()"
      ],
      "execution_count": 0,
      "outputs": [
        {
          "output_type": "stream",
          "text": [
            "Downloading data from https://github.com/Callidior/keras-applications/releases/download/efficientnet/efficientnet-b0_weights_tf_dim_ordering_tf_kernels_autoaugment_notop.h5\n",
            "16809984/16804768 [==============================] - 1s 0us/step\n",
            "Model: \"sequential_1\"\n",
            "_________________________________________________________________\n",
            "Layer (type)                 Output Shape              Param #   \n",
            "=================================================================\n",
            "efficientnet-b0 (Model)      (None, 7, 7, 1280)        4049564   \n",
            "_________________________________________________________________\n",
            "global_average_pooling2d_1 ( (None, 1280)              0         \n",
            "_________________________________________________________________\n",
            "dropout_1 (Dropout)          (None, 1280)              0         \n",
            "_________________________________________________________________\n",
            "dense_1 (Dense)              (None, 100)               128100    \n",
            "=================================================================\n",
            "Total params: 4,177,664\n",
            "Trainable params: 4,135,648\n",
            "Non-trainable params: 42,016\n",
            "_________________________________________________________________\n"
          ],
          "name": "stdout"
        }
      ]
    },
    {
      "cell_type": "code",
      "metadata": {
        "id": "IQp289H5bUZ2",
        "colab_type": "code",
        "colab": {}
      },
      "source": [
        "#efnb0.trainable = False\n",
        "sgd = SGD(lr = lr, momentum = 0.9, nesterov = True)\n",
        "es = EarlyStopping(monitor = 'val_loss', mode = 'min', patience = es_patience, restore_best_weights = True, verbose = 1)\n",
        "rlrop = ReduceLROnPlateau(monitor = 'val_loss', mode = 'min', patience = rlrop_patience, \n",
        "                        factor = decay_rate, min_lr = 1e-6, verbose = 1)\n",
        "model.compile(loss = 'categorical_crossentropy', optimizer = sgd, metrics = ['acc'])\n",
        "\n"
      ],
      "execution_count": 0,
      "outputs": []
    },
    {
      "cell_type": "code",
      "metadata": {
        "id": "AXdCcnFLb6rJ",
        "colab_type": "code",
        "outputId": "9d9d7dc5-86a0-46a4-dee7-b09a82ce8070",
        "colab": {
          "base_uri": "https://localhost:8080/",
          "height": 703
        }
      },
      "source": [
        "hist = model.fit_generator(train_generator,validation_data = valid_generator, epochs = epochs, verbose = 1, callbacks = [es, rlrop])\n",
        "\n",
        "model.save_weights(\"best_weight_B2.h5\")"
      ],
      "execution_count": 0,
      "outputs": [
        {
          "output_type": "stream",
          "text": [
            "Epoch 1/20\n",
            "625/625 [==============================] - 584s 934ms/step - loss: 2.7428 - acc: 0.3555 - val_loss: 0.9962 - val_acc: 0.6544\n",
            "Epoch 2/20\n",
            "625/625 [==============================] - 566s 905ms/step - loss: 1.3272 - acc: 0.6234 - val_loss: 1.0270 - val_acc: 0.7326\n",
            "Epoch 3/20\n",
            "625/625 [==============================] - 564s 903ms/step - loss: 1.0599 - acc: 0.6917 - val_loss: 0.7209 - val_acc: 0.7761\n",
            "Epoch 4/20\n",
            "625/625 [==============================] - 558s 893ms/step - loss: 0.8965 - acc: 0.7351 - val_loss: 0.8131 - val_acc: 0.7758\n",
            "Epoch 5/20\n",
            "625/625 [==============================] - 558s 892ms/step - loss: 0.8075 - acc: 0.7580 - val_loss: 0.7316 - val_acc: 0.8071\n",
            "Epoch 6/20\n",
            "625/625 [==============================] - 554s 887ms/step - loss: 0.7167 - acc: 0.7840 - val_loss: 0.4439 - val_acc: 0.8049\n",
            "Epoch 7/20\n",
            "625/625 [==============================] - 570s 912ms/step - loss: 0.6551 - acc: 0.8008 - val_loss: 0.5588 - val_acc: 0.7991\n",
            "Epoch 8/20\n",
            "625/625 [==============================] - 566s 905ms/step - loss: 0.5979 - acc: 0.8173 - val_loss: 0.7251 - val_acc: 0.8131\n",
            "Epoch 9/20\n",
            "625/625 [==============================] - 560s 895ms/step - loss: 0.5551 - acc: 0.8292 - val_loss: 0.6166 - val_acc: 0.8224\n",
            "Epoch 10/20\n",
            "625/625 [==============================] - 572s 915ms/step - loss: 0.5220 - acc: 0.8401 - val_loss: 0.4216 - val_acc: 0.8206\n",
            "Epoch 11/20\n",
            "625/625 [==============================] - 561s 898ms/step - loss: 0.4793 - acc: 0.8529 - val_loss: 0.6216 - val_acc: 0.8243\n",
            "Epoch 12/20\n",
            "625/625 [==============================] - 558s 893ms/step - loss: 0.4525 - acc: 0.8602 - val_loss: 0.6043 - val_acc: 0.8255\n",
            "Epoch 13/20\n",
            "625/625 [==============================] - 555s 888ms/step - loss: 0.4201 - acc: 0.8712 - val_loss: 0.2970 - val_acc: 0.8269\n",
            "Epoch 14/20\n",
            "625/625 [==============================] - 565s 904ms/step - loss: 0.3952 - acc: 0.8783 - val_loss: 0.4431 - val_acc: 0.8301\n",
            "Epoch 15/20\n",
            "625/625 [==============================] - 564s 903ms/step - loss: 0.3770 - acc: 0.8839 - val_loss: 0.6337 - val_acc: 0.8316\n",
            "Epoch 16/20\n",
            "625/625 [==============================] - 578s 925ms/step - loss: 0.3614 - acc: 0.8893 - val_loss: 0.4354 - val_acc: 0.8291\n",
            "Epoch 17/20\n",
            "625/625 [==============================] - 588s 941ms/step - loss: 0.3395 - acc: 0.8965 - val_loss: 0.7311 - val_acc: 0.8298\n",
            "Epoch 18/20\n",
            "625/625 [==============================] - 573s 916ms/step - loss: 0.3150 - acc: 0.9047 - val_loss: 0.5217 - val_acc: 0.8347\n",
            "Restoring model weights from the end of the best epoch\n",
            "\n",
            "Epoch 00018: ReduceLROnPlateau reducing learning rate to 0.003999999910593033.\n",
            "Epoch 00018: early stopping\n"
          ],
          "name": "stdout"
        }
      ]
    },
    {
      "cell_type": "code",
      "metadata": {
        "id": "qd-_29kLagn-",
        "colab_type": "code",
        "colab": {}
      },
      "source": [
        "class Data(keras.utils.Sequence):\n",
        "    'Generates data for keras'\n",
        "    def __init__(self, images , labels = None, mode = 'fit', batch_size = 50,\n",
        "                 dim = (height, width), channels = channels, n_classes = n_classes,\n",
        "                 shuffle = True, augment = False):\n",
        "        self.images = images\n",
        "        self.labels = labels\n",
        "        self.mode = mode\n",
        "        self.batch_size = batch_size\n",
        "        self.dim = dim\n",
        "        self.channels = channels\n",
        "        self.n_classes = n_classes\n",
        "        self.shuffle = shuffle\n",
        "        self.augment = augment\n",
        "        \n",
        "        self.on_epoch_end()\n",
        "        \n",
        "    def on_epoch_end(self):\n",
        "        'Updates indexes after each epoch'\n",
        "        self.indexes = np.arange(self.images.shape[0])\n",
        "        if self.shuffle == True:\n",
        "            np.random.shuffle(self.indexes)\n",
        "            \n",
        "    def __len__(self):\n",
        "        'Denotes the number of batches per epoch'\n",
        "        return int(np.floor(len(self.images) / self.batch_size))\n",
        "        \n",
        "    def __getitem__(self, index):\n",
        "        'Generate one batch of data'\n",
        "        batch_indexes = self.indexes[index*self.batch_size:(index+1)*self.batch_size]\n",
        "\n",
        "        # =========================================================== #\n",
        "        # Generate mini-batch of X\n",
        "        # =========================================================== #\n",
        "        X = np.empty((self.batch_size, *self.dim, self.channels))\n",
        "        for i, ID in enumerate(batch_indexes):\n",
        "            # Generate a preprocessed image\n",
        "            img = self.images[ID]\n",
        "            img = img.astype(np.float32) / 255.\n",
        "            img = np_resize(img, self.dim)\n",
        "            X[i] = img\n",
        "            \n",
        "        \n",
        "        # =========================================================== #\n",
        "        # Generate mini-batch of y\n",
        "        # =========================================================== #\n",
        "        if self.mode == 'fit':\n",
        "            y = self.labels[batch_indexes]\n",
        "            y = to_categorical(y, n_classes)\n",
        "            '''\n",
        "            y = np.zeros((self.batch_size, self.n_classes), dtype = np.uint8)\n",
        "            for i, ID in enumerate(batch_indexes):\n",
        "                # one hot encoded label\n",
        "                y[i, self.labels[ID]] = 1\n",
        "            '''\n",
        "            # Augmentation should only be implemented in the training part.\n",
        "            if self.augment == True:\n",
        "                X = self.__augment_batch(X)                \n",
        "            \n",
        "            return X,y\n",
        "        \n",
        "        elif self.mode == 'predict':\n",
        "            return X       \n",
        "        \n",
        "        else:\n",
        "            raise AttributeError('The mode parameters should be set to \"fit\" or \"predict\"')\n",
        "            \n",
        "    def __random_transform(self, img):\n",
        "        composition = albu.Compose([albu.HorizontalFlip(p = 0.5),\n",
        "                                    albu.VerticalFlip(p = 0.5),\n",
        "                                    albu.GridDistortion(p = 0.2),\n",
        "                                    albu.ElasticTransform(p = 0.2)])\n",
        "        \n",
        "        return composition(image = img)['image']\n",
        "        \n",
        "    \n",
        "    def __augment_batch(self, img_batch):\n",
        "        for i in range(img_batch.shape[0]):\n",
        "            img_batch[i] = self.__random_transform(img_batch[i])\n",
        "            \n",
        "        return img_batch\n"
      ],
      "execution_count": 0,
      "outputs": []
    },
    {
      "cell_type": "code",
      "metadata": {
        "id": "2cIgHkMfavX0",
        "colab_type": "code",
        "outputId": "b1b3d874-66bf-4968-c0da-e2fb1c3a27ea",
        "colab": {
          "base_uri": "https://localhost:8080/",
          "height": 50
        }
      },
      "source": [
        "# Make sure to set shuffle be False.\n",
        "test_generator = Data(X_test, mode = 'predict', augment = False, shuffle = False)\n",
        "y_pred = model.predict_generator(test_generator,verbose = 1)\n",
        "y_pred = np.argmax(y_pred, axis = 1)\n",
        "\n",
        "print(\"The accuracy on the testing data : {:.2f}%\".format(100 * accuracy_score(y_test, y_pred)))"
      ],
      "execution_count": 0,
      "outputs": [
        {
          "output_type": "stream",
          "text": [
            "200/200 [==============================] - 23s 115ms/step\n",
            "The accuracy on the testing data : 82.61%\n"
          ],
          "name": "stdout"
        }
      ]
    },
    {
      "cell_type": "code",
      "metadata": {
        "id": "rS7KbiTBb4m7",
        "colab_type": "code",
        "outputId": "b637d251-1474-40c2-b1f2-4175c51aed05",
        "colab": {
          "base_uri": "https://localhost:8080/",
          "height": 279
        }
      },
      "source": [
        "fig, loss_ax = plt.subplots()\n",
        "\n",
        "acc_ax = loss_ax.twinx()\n",
        "\n",
        "loss_ax.plot(hist.history['loss'], 'y', label='train loss')\n",
        "loss_ax.plot(hist.history['val_loss'], 'r', label='val loss')\n",
        "\n",
        "acc_ax.plot(hist.history['acc'], 'b', label='train acc')\n",
        "acc_ax.plot(hist.history['val_acc'], 'g', label='val acc')\n",
        "\n",
        "loss_ax.set_xlabel('epoch')\n",
        "loss_ax.set_ylabel('loss')\n",
        "acc_ax.set_ylabel('accuray')\n",
        "\n",
        "loss_ax.legend(loc='upper left')\n",
        "acc_ax.legend(loc='lower left')\n",
        "\n",
        "plt.show()"
      ],
      "execution_count": 0,
      "outputs": [
        {
          "output_type": "display_data",
          "data": {
            "image/png": "[encoded data removed]",
            "text/plain": [
              "<Figure size 432x288 with 2 Axes>"
            ]
          },
          "metadata": {
            "tags": [],
            "needs_background": "light"
          }
        }
      ]
    },
    {
      "cell_type": "code",
      "metadata": {
        "id": "bZxnVVDgEKvT",
        "colab_type": "code",
        "colab": {}
      },
      "source": [
        ""
      ],
      "execution_count": 0,
      "outputs": []
    }
  ]
}